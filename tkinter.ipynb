{
  "cells": [
    {
      "cell_type": "markdown",
      "metadata": {
        "id": "view-in-github",
        "colab_type": "text"
      },
      "source": [
        "<a href=\"https://colab.research.google.com/github/giljr/tkinter_demo/blob/main/tkinter.ipynb\" target=\"_parent\"><img src=\"https://colab.research.google.com/assets/colab-badge.svg\" alt=\"Open In Colab\"/></a>"
      ]
    },
    {
      "cell_type": "markdown",
      "id": "gPvT0K8Z6qCC",
      "metadata": {
        "id": "gPvT0K8Z6qCC"
      },
      "source": [
        "Note: Run this notebook in your local Machine. This will open a windows and it does not work in remote server, like Google Colab :/\n",
        "\n",
        "In this notebook we going to implement this app using Tkinter in Python:\n",
        "\n",
        "<img src=\"https://drive.google.com/uc?id=1GX3ttquuX3CFXk7MR7wf442Vq-yBhIZh\" width=500px>\n",
        "\n"
      ]
    },
    {
      "cell_type": "markdown",
      "id": "8662647f-09b7-476b-a44f-937fcb49ce47",
      "metadata": {
        "id": "8662647f-09b7-476b-a44f-937fcb49ce47"
      },
      "source": [
        "### What is Tk library?\n",
        "\n",
        "https://docs.python.org/3/library/tkinter.html<p>\n",
        "Tk is a free and open-source, cross-platform widget toolkit that provides a library of basic elements of GUI widgets for building a graphical user interface (GUI) in many    programming languages."
      ]
    },
    {
      "cell_type": "code",
      "execution_count": null,
      "id": "a9ec7127",
      "metadata": {
        "colab": {
          "base_uri": "https://localhost:8080/",
          "height": 358
        },
        "id": "a9ec7127",
        "outputId": "cd783af9-9e39-47a5-e88d-4b5a896fe7c1"
      },
      "outputs": [
        {
          "name": "stdout",
          "output_type": "stream",
          "text": [
            "Same txt in entry widget...\n",
            "------------------------------------------------------\n",
            "\n",
            "Multline widget text example:\n",
            "\n",
            "What is Widgets?\n",
            "\n",
            "Widgets are small parts on\n",
            "web applications that allow\n",
            "user input.\n",
            "\n",
            "------------------------------------------------------\n",
            "spin: 1\n",
            "scale: 1\n",
            "CheckButton: 1\n",
            "Radio Button: 1\n",
            "listbox: Jungletronics\n"
          ]
        }
      ],
      "source": [
        "import tkinter\n",
        "# from tkinter import *\n",
        "\n",
        "window = tkinter.Tk()\n",
        "window.title(\"My First Program\")\n",
        "window.minsize(width=500,height=450)\n",
        "\n",
        "# label\n",
        "\n",
        "mylabel = tkinter.Label(text=\"I am a Label\", font=(\"Arial\", 24, \"bold\")) \n",
        "mylabel.pack()\n",
        "# mylabel.pack(side=\"left\")\n",
        "# mylabel.config(text=\"New text by config\")\n",
        "\n",
        "\n",
        "# Button\n",
        "\n",
        "# mybut = tkinter.Button(text=\"Click me\")\n",
        "# mybut.pack()\n",
        "\n",
        "def button_clicked():\n",
        "    # print(\"I got clicked!\")\n",
        "    # mylabel.config(text=\"I got clicked!\")\n",
        "    mytext = entry.get()\n",
        "    mylabel.config(text=mytext)\n",
        "    \n",
        "\n",
        "mybut = tkinter.Button(text=\"Click me\", command=button_clicked)\n",
        "mybut.pack()\n",
        "\n",
        "\n",
        "# Entry\n",
        "\n",
        "entry = tkinter.Entry(width=30) \n",
        "entry.insert(\"end\", string=\"Same txt in entry widget...\")\n",
        "print(entry.get())\n",
        "entry.pack()\n",
        "\n",
        "\n",
        "mylabel.pack()\n",
        "\n",
        "# Text\n",
        "\n",
        "multiline = tkinter.Text(height=10, width=30) \n",
        "multiline.focus()\n",
        "# pos is either the string “end”, an integer index, or the name of a managed child\n",
        "multiline.insert(\"end\", \"Multline widget text example:\\n\\nWhat is Widgets?\\n\\nWidgets are small parts on\\nweb applications that allow\\nuser input.\")\n",
        "multiline.pack()\n",
        "# print what is inside multline text box\n",
        "print(\"------------------------------------------------------\\n\")\n",
        "print(multiline.get(\"1.0\", \"end\"))\n",
        "print(\"------------------------------------------------------\\n\", end='')\n",
        "\n",
        "\n",
        "# SpinBox\n",
        "\n",
        "def spinbox_used():\n",
        "    print(\"spin: \" + spinbox.get())\n",
        "\n",
        "spinbox = tkinter.Spinbox(from_=0, to=10, width=5, command=spinbox_used)\n",
        "spinbox.pack()\n",
        "\n",
        "\n",
        "# Scale\n",
        "\n",
        "def scale_used(value):    \n",
        "    print(\"scale: \" + value)\n",
        "\n",
        "scale = tkinter.Scale(from_=0, to=100, command=scale_used)\n",
        "scale.pack()\n",
        "      \n",
        "# CheckButton\n",
        "\n",
        "def checkedbutton_used():    \n",
        "    print(f\"CheckButton: {checked_state.get()}\")\n",
        "\n",
        "checked_state = tkinter.IntVar()\n",
        "checkbutton = tkinter.Checkbutton(text=\"Is on?\", variable=checked_state, command=checkedbutton_used) \n",
        "checked_state.get()\n",
        "checkbutton.pack()   \n",
        "\n",
        "# Radio Button\n",
        "\n",
        "def radio_used():\n",
        "    print(f\"Radio Button: {radio_state.get()}\")\n",
        "    \n",
        "radio_state = tkinter.IntVar()\n",
        "radiobutton1 = tkinter.Radiobutton(text=\"Option 1\", value=1, variable= radio_state, command=radio_used) \n",
        "radiobutton2 = tkinter.Radiobutton(text=\"Option 2\", value=2, variable= radio_state, command=radio_used) \n",
        "radiobutton1.pack() \n",
        "radiobutton2.pack()   \n",
        "\n",
        "# List Box\n",
        "\n",
        "def listbox_used(event):\n",
        "    # print(listbox.get(listbox.curselection()))    \n",
        "    print(f\"listbox: {listbox.get(listbox.curselection())}\")\n",
        "    \n",
        "listbox = tkinter.Listbox(height=4)\n",
        "webpages = [\"j3\", \"Jungletronics\", \"Kidstronics\"]\n",
        "\n",
        "for page in webpages:\n",
        "    listbox.insert(webpages.index(page), page)\n",
        "\n",
        "listbox.bind(\"<<ListboxSelect>>\", listbox_used)\n",
        "listbox.pack()\n",
        "\n",
        "    \n",
        "window.mainloop()"
      ]
    },
    {
      "cell_type": "code",
      "execution_count": null,
      "id": "e1977ae6-956e-4fc4-a0be-73d6e163e83b",
      "metadata": {
        "id": "e1977ae6-956e-4fc4-a0be-73d6e163e83b",
        "outputId": "1a445634-82e1-49b4-a5a0-884cf6746a7e"
      },
      "outputs": [
        {
          "name": "stdout",
          "output_type": "stream",
          "text": [
            "That's all folks o/\n"
          ]
        }
      ],
      "source": [
        "print(\"That's all folks o/\")"
      ]
    }
  ],
  "metadata": {
    "colab": {
      "provenance": [],
      "include_colab_link": true
    },
    "kernelspec": {
      "display_name": "Python 3",
      "language": "python",
      "name": "python3"
    },
    "language_info": {
      "codemirror_mode": {
        "name": "ipython",
        "version": 3
      },
      "file_extension": ".py",
      "mimetype": "text/x-python",
      "name": "python",
      "nbconvert_exporter": "python",
      "pygments_lexer": "ipython3",
      "version": "3.7.6"
    }
  },
  "nbformat": 4,
  "nbformat_minor": 5
}